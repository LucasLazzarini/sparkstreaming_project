{
 "cells": [
  {
   "cell_type": "code",
   "execution_count": 4,
   "metadata": {},
   "outputs": [],
   "source": [
    "from kafka import KafkaProducer\n",
    "import json\n",
    "from datetime import datetime\n",
    "\n",
    "bootstrap_servers = ['localhost:9092']\n",
    "topicName = 'test'\n",
    "producer = KafkaProducer(bootstrap_servers=bootstrap_servers, api_version=(0,11,5))\n",
    "key = None\n",
    "\n",
    "headers = []\n",
    "\n",
    "message_data = json.dumps({\n",
    "    'codigo_cliente': '7',\n",
    "    'agencia': '0035',\n",
    "    'valor_da_operacao': 90000,\n",
    "    'tipo_de_operacao': 'deposito',\n",
    "    'data': datetime.now().isoformat(),\n",
    "    'saldo_em_conta': 1000}).encode('utf-8')  \n",
    "\n",
    "# Send the serialized message to the Kafka topic\n",
    "producer.send(topicName,\n",
    "              message_data,\n",
    "              key,\n",
    "              headers)\n",
    "producer.flush()"
   ]
  }
 ],
 "metadata": {
  "kernelspec": {
   "display_name": "Python 3.9.13 ('class')",
   "language": "python",
   "name": "python3"
  },
  "language_info": {
   "codemirror_mode": {
    "name": "ipython",
    "version": 3
   },
   "file_extension": ".py",
   "mimetype": "text/x-python",
   "name": "python",
   "nbconvert_exporter": "python",
   "pygments_lexer": "ipython3",
   "version": "3.9.13"
  },
  "orig_nbformat": 4,
  "vscode": {
   "interpreter": {
    "hash": "b32fdd43c6848134af1d150391c7df26920e32d76cd73d822090a90261f1acd6"
   }
  }
 },
 "nbformat": 4,
 "nbformat_minor": 2
}
