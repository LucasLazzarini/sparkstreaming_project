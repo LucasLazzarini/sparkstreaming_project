{
 "cells": [
  {
   "cell_type": "code",
   "execution_count": 7,
   "metadata": {},
   "outputs": [],
   "source": [
    "from sqllite_helper import SQLite3Helper\n",
    "\n",
    "task = SQLite3Helper()\n",
    "\n"
   ]
  },
  {
   "cell_type": "code",
   "execution_count": 8,
   "metadata": {},
   "outputs": [
    {
     "name": "stdout",
     "output_type": "stream",
     "text": [
      "Conexão criada, novo database: database.db\n"
     ]
    }
   ],
   "source": [
    "task.create_connection(db_file=\"database.db\")"
   ]
  },
  {
   "cell_type": "code",
   "execution_count": 10,
   "metadata": {},
   "outputs": [],
   "source": [
    "data = {'codigo_cliente': ['1', '2' , '3', '4', '5', '6', '7', '8', '9', '10'],\n",
    "        'nome':  ['Lucas', 'Bruno', 'Roberto', 'Carla', 'Mirella', 'Matheus', 'Gabriel', 'Filipe', 'Nicolas', 'Larissa'],\n",
    "        'idade': [22, 35, 18, 24, 60, 54, 44, 27, 36, 38],\n",
    "        'gerente_da_conta': ['Leandro', 'Eduardo', 'Roberto', 'Leandro', 'Eduardo', 'Roberto', 'Leandro', 'Eduardo', 'Roberto', 'Leandro'],\n",
    "        'conta_corrente': ['1234', '4321', '5554', '4585', '4856', '9847', '8854', '6541', '3659', '4751'],\n",
    "        'tipo_conta_corrente': ['Povão', 'Chefão', 'Ricão', 'Povão', 'Chefão', 'Ricão', 'Povão', 'Chefão', 'Ricão', 'Povão'],\n",
    "        'score': [400, 800, 650, 350, 850, 700, 375, 736, 682, 530]\n",
    "        }"
   ]
  },
  {
   "cell_type": "code",
   "execution_count": 11,
   "metadata": {},
   "outputs": [
    {
     "name": "stdout",
     "output_type": "stream",
     "text": [
      "  codigo_cliente     nome  idade gerente_da_conta conta_corrente  \\\n",
      "0              1    Lucas     22          Leandro           1234   \n",
      "1              2    Bruno     35          Eduardo           4321   \n",
      "2              3  Roberto     18          Roberto           5554   \n",
      "3              4    Carla     24          Leandro           4585   \n",
      "4              5  Mirella     60          Eduardo           4856   \n",
      "5              6  Matheus     54          Roberto           9847   \n",
      "6              7  Gabriel     44          Leandro           8854   \n",
      "7              8   Filipe     27          Eduardo           6541   \n",
      "8              9  Nicolas     36          Roberto           3659   \n",
      "9             10  Larissa     38          Leandro           4751   \n",
      "\n",
      "  tipo_conta_corrente  score  \n",
      "0               Povão    400  \n",
      "1              Chefão    800  \n",
      "2               Ricão    650  \n",
      "3               Povão    350  \n",
      "4              Chefão    850  \n",
      "5               Ricão    700  \n",
      "6               Povão    375  \n",
      "7              Chefão    736  \n",
      "8               Ricão    682  \n",
      "9               Povão    530  \n"
     ]
    }
   ],
   "source": [
    "import pandas as pd\n",
    "\n",
    "df = pd.DataFrame(data)\n",
    "\n",
    "print(df)"
   ]
  },
  {
   "cell_type": "code",
   "execution_count": 12,
   "metadata": {},
   "outputs": [
    {
     "name": "stdout",
     "output_type": "stream",
     "text": [
      "Criando tabela clientes no database database.db\n",
      "Tabela criada\n"
     ]
    }
   ],
   "source": [
    "task.create_table(df=df, db_file='database.db', table_name='clientes')"
   ]
  },
  {
   "cell_type": "code",
   "execution_count": 13,
   "metadata": {},
   "outputs": [
    {
     "name": "stdout",
     "output_type": "stream",
     "text": [
      "Rodando Query\n",
      "DataFrame disponível com resultado da query\n"
     ]
    },
    {
     "data": {
      "text/html": [
       "<div>\n",
       "<style scoped>\n",
       "    .dataframe tbody tr th:only-of-type {\n",
       "        vertical-align: middle;\n",
       "    }\n",
       "\n",
       "    .dataframe tbody tr th {\n",
       "        vertical-align: top;\n",
       "    }\n",
       "\n",
       "    .dataframe thead th {\n",
       "        text-align: right;\n",
       "    }\n",
       "</style>\n",
       "<table border=\"1\" class=\"dataframe\">\n",
       "  <thead>\n",
       "    <tr style=\"text-align: right;\">\n",
       "      <th></th>\n",
       "      <th>index</th>\n",
       "      <th>codigo_cliente</th>\n",
       "      <th>nome</th>\n",
       "      <th>idade</th>\n",
       "      <th>gerente_da_conta</th>\n",
       "      <th>conta_corrente</th>\n",
       "      <th>tipo_conta_corrente</th>\n",
       "      <th>score</th>\n",
       "    </tr>\n",
       "  </thead>\n",
       "  <tbody>\n",
       "    <tr>\n",
       "      <th>0</th>\n",
       "      <td>0</td>\n",
       "      <td>1</td>\n",
       "      <td>Lucas</td>\n",
       "      <td>22</td>\n",
       "      <td>Leandro</td>\n",
       "      <td>1234</td>\n",
       "      <td>Povão</td>\n",
       "      <td>400</td>\n",
       "    </tr>\n",
       "    <tr>\n",
       "      <th>1</th>\n",
       "      <td>1</td>\n",
       "      <td>2</td>\n",
       "      <td>Bruno</td>\n",
       "      <td>35</td>\n",
       "      <td>Eduardo</td>\n",
       "      <td>4321</td>\n",
       "      <td>Chefão</td>\n",
       "      <td>800</td>\n",
       "    </tr>\n",
       "    <tr>\n",
       "      <th>2</th>\n",
       "      <td>2</td>\n",
       "      <td>3</td>\n",
       "      <td>Roberto</td>\n",
       "      <td>18</td>\n",
       "      <td>Roberto</td>\n",
       "      <td>5554</td>\n",
       "      <td>Ricão</td>\n",
       "      <td>650</td>\n",
       "    </tr>\n",
       "    <tr>\n",
       "      <th>3</th>\n",
       "      <td>3</td>\n",
       "      <td>4</td>\n",
       "      <td>Carla</td>\n",
       "      <td>24</td>\n",
       "      <td>Leandro</td>\n",
       "      <td>4585</td>\n",
       "      <td>Povão</td>\n",
       "      <td>350</td>\n",
       "    </tr>\n",
       "    <tr>\n",
       "      <th>4</th>\n",
       "      <td>4</td>\n",
       "      <td>5</td>\n",
       "      <td>Mirella</td>\n",
       "      <td>60</td>\n",
       "      <td>Eduardo</td>\n",
       "      <td>4856</td>\n",
       "      <td>Chefão</td>\n",
       "      <td>850</td>\n",
       "    </tr>\n",
       "    <tr>\n",
       "      <th>5</th>\n",
       "      <td>5</td>\n",
       "      <td>6</td>\n",
       "      <td>Matheus</td>\n",
       "      <td>54</td>\n",
       "      <td>Roberto</td>\n",
       "      <td>9847</td>\n",
       "      <td>Ricão</td>\n",
       "      <td>700</td>\n",
       "    </tr>\n",
       "    <tr>\n",
       "      <th>6</th>\n",
       "      <td>6</td>\n",
       "      <td>7</td>\n",
       "      <td>Gabriel</td>\n",
       "      <td>44</td>\n",
       "      <td>Leandro</td>\n",
       "      <td>8854</td>\n",
       "      <td>Povão</td>\n",
       "      <td>375</td>\n",
       "    </tr>\n",
       "    <tr>\n",
       "      <th>7</th>\n",
       "      <td>7</td>\n",
       "      <td>8</td>\n",
       "      <td>Filipe</td>\n",
       "      <td>27</td>\n",
       "      <td>Eduardo</td>\n",
       "      <td>6541</td>\n",
       "      <td>Chefão</td>\n",
       "      <td>736</td>\n",
       "    </tr>\n",
       "    <tr>\n",
       "      <th>8</th>\n",
       "      <td>8</td>\n",
       "      <td>9</td>\n",
       "      <td>Nicolas</td>\n",
       "      <td>36</td>\n",
       "      <td>Roberto</td>\n",
       "      <td>3659</td>\n",
       "      <td>Ricão</td>\n",
       "      <td>682</td>\n",
       "    </tr>\n",
       "    <tr>\n",
       "      <th>9</th>\n",
       "      <td>9</td>\n",
       "      <td>10</td>\n",
       "      <td>Larissa</td>\n",
       "      <td>38</td>\n",
       "      <td>Leandro</td>\n",
       "      <td>4751</td>\n",
       "      <td>Povão</td>\n",
       "      <td>530</td>\n",
       "    </tr>\n",
       "  </tbody>\n",
       "</table>\n",
       "</div>"
      ],
      "text/plain": [
       "   index codigo_cliente     nome idade gerente_da_conta conta_corrente  \\\n",
       "0      0              1    Lucas    22          Leandro           1234   \n",
       "1      1              2    Bruno    35          Eduardo           4321   \n",
       "2      2              3  Roberto    18          Roberto           5554   \n",
       "3      3              4    Carla    24          Leandro           4585   \n",
       "4      4              5  Mirella    60          Eduardo           4856   \n",
       "5      5              6  Matheus    54          Roberto           9847   \n",
       "6      6              7  Gabriel    44          Leandro           8854   \n",
       "7      7              8   Filipe    27          Eduardo           6541   \n",
       "8      8              9  Nicolas    36          Roberto           3659   \n",
       "9      9             10  Larissa    38          Leandro           4751   \n",
       "\n",
       "  tipo_conta_corrente score  \n",
       "0               Povão   400  \n",
       "1              Chefão   800  \n",
       "2               Ricão   650  \n",
       "3               Povão   350  \n",
       "4              Chefão   850  \n",
       "5               Ricão   700  \n",
       "6               Povão   375  \n",
       "7              Chefão   736  \n",
       "8               Ricão   682  \n",
       "9               Povão   530  "
      ]
     },
     "execution_count": 13,
     "metadata": {},
     "output_type": "execute_result"
    }
   ],
   "source": [
    "query = \"select * from clientes\"\n",
    "\n",
    "task.run_query(db_file=\"database.db\", query=query)"
   ]
  },
  {
   "cell_type": "code",
   "execution_count": 22,
   "metadata": {},
   "outputs": [],
   "source": [
    "query = \"ALTER TABLE clientes DROP index;\""
   ]
  },
  {
   "cell_type": "code",
   "execution_count": 23,
   "metadata": {},
   "outputs": [
    {
     "name": "stdout",
     "output_type": "stream",
     "text": [
      "Rodando Query\n"
     ]
    },
    {
     "ename": "DatabaseError",
     "evalue": "Execution failed on sql 'ALTER TABLE clientes DROP index;': near \"index\": syntax error",
     "output_type": "error",
     "traceback": [
      "\u001b[0;31m---------------------------------------------------------------------------\u001b[0m",
      "\u001b[0;31mOperationalError\u001b[0m                          Traceback (most recent call last)",
      "File \u001b[0;32m~/miniconda3/envs/class/lib/python3.9/site-packages/pandas/io/sql.py:2018\u001b[0m, in \u001b[0;36mSQLiteDatabase.execute\u001b[0;34m(self, *args, **kwargs)\u001b[0m\n\u001b[1;32m   2017\u001b[0m \u001b[39mtry\u001b[39;00m:\n\u001b[0;32m-> 2018\u001b[0m     cur\u001b[39m.\u001b[39;49mexecute(\u001b[39m*\u001b[39;49margs, \u001b[39m*\u001b[39;49m\u001b[39m*\u001b[39;49mkwargs)\n\u001b[1;32m   2019\u001b[0m     \u001b[39mreturn\u001b[39;00m cur\n",
      "\u001b[0;31mOperationalError\u001b[0m: near \"index\": syntax error",
      "\nThe above exception was the direct cause of the following exception:\n",
      "\u001b[0;31mDatabaseError\u001b[0m                             Traceback (most recent call last)",
      "Cell \u001b[0;32mIn [23], line 1\u001b[0m\n\u001b[0;32m----> 1\u001b[0m task\u001b[39m.\u001b[39;49mrun_query(db_file\u001b[39m=\u001b[39;49m\u001b[39m\"\u001b[39;49m\u001b[39mdatabase.db\u001b[39;49m\u001b[39m\"\u001b[39;49m, query\u001b[39m=\u001b[39;49mquery)\n",
      "File \u001b[0;32m~/Documentos/spark_project/sqllite_helper.py:46\u001b[0m, in \u001b[0;36mSQLite3Helper.run_query\u001b[0;34m(db_file, query)\u001b[0m\n\u001b[1;32m     44\u001b[0m \u001b[39mprint\u001b[39m(\u001b[39m\"\u001b[39m\u001b[39mRodando Query\u001b[39m\u001b[39m\"\u001b[39m)\n\u001b[1;32m     45\u001b[0m con \u001b[39m=\u001b[39m sqlite3\u001b[39m.\u001b[39mconnect(db_file)\n\u001b[0;32m---> 46\u001b[0m df \u001b[39m=\u001b[39m pd\u001b[39m.\u001b[39;49mread_sql_query(query, con)\n\u001b[1;32m     47\u001b[0m con\u001b[39m.\u001b[39mclose()\n\u001b[1;32m     48\u001b[0m \u001b[39mprint\u001b[39m(\u001b[39m\"\u001b[39m\u001b[39mDataFrame disponível com resultado da query\u001b[39m\u001b[39m\"\u001b[39m)\n",
      "File \u001b[0;32m~/miniconda3/envs/class/lib/python3.9/site-packages/pandas/io/sql.py:397\u001b[0m, in \u001b[0;36mread_sql_query\u001b[0;34m(sql, con, index_col, coerce_float, params, parse_dates, chunksize, dtype)\u001b[0m\n\u001b[1;32m    339\u001b[0m \u001b[39m\"\"\"\u001b[39;00m\n\u001b[1;32m    340\u001b[0m \u001b[39mRead SQL query into a DataFrame.\u001b[39;00m\n\u001b[1;32m    341\u001b[0m \n\u001b[0;32m   (...)\u001b[0m\n\u001b[1;32m    394\u001b[0m \u001b[39mparameter will be converted to UTC.\u001b[39;00m\n\u001b[1;32m    395\u001b[0m \u001b[39m\"\"\"\u001b[39;00m\n\u001b[1;32m    396\u001b[0m pandas_sql \u001b[39m=\u001b[39m pandasSQL_builder(con)\n\u001b[0;32m--> 397\u001b[0m \u001b[39mreturn\u001b[39;00m pandas_sql\u001b[39m.\u001b[39;49mread_query(\n\u001b[1;32m    398\u001b[0m     sql,\n\u001b[1;32m    399\u001b[0m     index_col\u001b[39m=\u001b[39;49mindex_col,\n\u001b[1;32m    400\u001b[0m     params\u001b[39m=\u001b[39;49mparams,\n\u001b[1;32m    401\u001b[0m     coerce_float\u001b[39m=\u001b[39;49mcoerce_float,\n\u001b[1;32m    402\u001b[0m     parse_dates\u001b[39m=\u001b[39;49mparse_dates,\n\u001b[1;32m    403\u001b[0m     chunksize\u001b[39m=\u001b[39;49mchunksize,\n\u001b[1;32m    404\u001b[0m     dtype\u001b[39m=\u001b[39;49mdtype,\n\u001b[1;32m    405\u001b[0m )\n",
      "File \u001b[0;32m~/miniconda3/envs/class/lib/python3.9/site-packages/pandas/io/sql.py:2078\u001b[0m, in \u001b[0;36mSQLiteDatabase.read_query\u001b[0;34m(self, sql, index_col, coerce_float, params, parse_dates, chunksize, dtype)\u001b[0m\n\u001b[1;32m   2066\u001b[0m \u001b[39mdef\u001b[39;00m \u001b[39mread_query\u001b[39m(\n\u001b[1;32m   2067\u001b[0m     \u001b[39mself\u001b[39m,\n\u001b[1;32m   2068\u001b[0m     sql,\n\u001b[0;32m   (...)\u001b[0m\n\u001b[1;32m   2074\u001b[0m     dtype: DtypeArg \u001b[39m|\u001b[39m \u001b[39mNone\u001b[39;00m \u001b[39m=\u001b[39m \u001b[39mNone\u001b[39;00m,\n\u001b[1;32m   2075\u001b[0m ) \u001b[39m-\u001b[39m\u001b[39m>\u001b[39m DataFrame \u001b[39m|\u001b[39m Iterator[DataFrame]:\n\u001b[1;32m   2077\u001b[0m     args \u001b[39m=\u001b[39m _convert_params(sql, params)\n\u001b[0;32m-> 2078\u001b[0m     cursor \u001b[39m=\u001b[39m \u001b[39mself\u001b[39;49m\u001b[39m.\u001b[39;49mexecute(\u001b[39m*\u001b[39;49margs)\n\u001b[1;32m   2079\u001b[0m     columns \u001b[39m=\u001b[39m [col_desc[\u001b[39m0\u001b[39m] \u001b[39mfor\u001b[39;00m col_desc \u001b[39min\u001b[39;00m cursor\u001b[39m.\u001b[39mdescription]\n\u001b[1;32m   2081\u001b[0m     \u001b[39mif\u001b[39;00m chunksize \u001b[39mis\u001b[39;00m \u001b[39mnot\u001b[39;00m \u001b[39mNone\u001b[39;00m:\n",
      "File \u001b[0;32m~/miniconda3/envs/class/lib/python3.9/site-packages/pandas/io/sql.py:2030\u001b[0m, in \u001b[0;36mSQLiteDatabase.execute\u001b[0;34m(self, *args, **kwargs)\u001b[0m\n\u001b[1;32m   2027\u001b[0m     \u001b[39mraise\u001b[39;00m ex \u001b[39mfrom\u001b[39;00m \u001b[39minner_exc\u001b[39;00m\n\u001b[1;32m   2029\u001b[0m ex \u001b[39m=\u001b[39m DatabaseError(\u001b[39mf\u001b[39m\u001b[39m\"\u001b[39m\u001b[39mExecution failed on sql \u001b[39m\u001b[39m'\u001b[39m\u001b[39m{\u001b[39;00margs[\u001b[39m0\u001b[39m]\u001b[39m}\u001b[39;00m\u001b[39m'\u001b[39m\u001b[39m: \u001b[39m\u001b[39m{\u001b[39;00mexc\u001b[39m}\u001b[39;00m\u001b[39m\"\u001b[39m)\n\u001b[0;32m-> 2030\u001b[0m \u001b[39mraise\u001b[39;00m ex \u001b[39mfrom\u001b[39;00m \u001b[39mexc\u001b[39;00m\n",
      "\u001b[0;31mDatabaseError\u001b[0m: Execution failed on sql 'ALTER TABLE clientes DROP index;': near \"index\": syntax error"
     ]
    }
   ],
   "source": [
    "task.run_query(db_file=\"database.db\", query=query)"
   ]
  }
 ],
 "metadata": {
  "kernelspec": {
   "display_name": "Python 3.9.13 ('class')",
   "language": "python",
   "name": "python3"
  },
  "language_info": {
   "codemirror_mode": {
    "name": "ipython",
    "version": 3
   },
   "file_extension": ".py",
   "mimetype": "text/x-python",
   "name": "python",
   "nbconvert_exporter": "python",
   "pygments_lexer": "ipython3",
   "version": "3.9.13"
  },
  "orig_nbformat": 4,
  "vscode": {
   "interpreter": {
    "hash": "b32fdd43c6848134af1d150391c7df26920e32d76cd73d822090a90261f1acd6"
   }
  }
 },
 "nbformat": 4,
 "nbformat_minor": 2
}
